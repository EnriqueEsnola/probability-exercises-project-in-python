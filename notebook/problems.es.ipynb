{
 "cells": [
  {
   "cell_type": "markdown",
   "id": "a41f3622",
   "metadata": {},
   "source": [
    "# Ejercicios de probabilidad"
   ]
  },
  {
   "cell_type": "markdown",
   "id": "a6bdbd89",
   "metadata": {},
   "source": [
    "## Ejercicio 1 \n",
    "\n",
    "Dos dados se lanzan una vez y se observa el total obtenido. Usa una simulación para encontrar la probabilidad estimada de que la puntuación sea mayor a 7 o un número par. Una simulación es una repetición del mismo experimento multiples veces para observar su comportamiento:\n",
    "\n",
    "- Ejecuta el experimento 1000 veces (lanza 2 dados 1000 veces, y suma el número de ambos dados).\n",
    "- Lleva ua cuenta de los números y las veces que la suma fue mayor a 7 o un número par.\n",
    "- Divide el número del paso 2 entre el número de iteraciones(1000)."
   ]
  },
  {
   "cell_type": "code",
   "execution_count": 1,
   "id": "8939d892",
   "metadata": {},
   "outputs": [
    {
     "name": "stdout",
     "output_type": "stream",
     "text": [
      "Contador  652\n",
      "Probabilidad estimada: 0.652\n"
     ]
    }
   ],
   "source": [
    "# TODO\n",
    "import numpy as np\n",
    "\n",
    "n_lanzamientos = 1000\n",
    "contador = 0\n",
    "#Ejecutamos el experimento 1000 veces = n_lanzamientos\n",
    "for i in range(n_lanzamientos):\n",
    "    dado1 = np.random.randint(0, 7)\n",
    "    dado2 = np.random.randint(0, 7)\n",
    "    suma = dado1 + dado2\n",
    "    if suma > 7 or suma % 2 == 0: #Cuenta de los numeros y las veces que la suma fue mayor a 7 o n par\n",
    "        contador += 1\n",
    "# Calcular la probabilidad estimada\n",
    "probabilidad = contador / n_lanzamientos\n",
    "    \n",
    "print(\"Contador \", contador)\n",
    "print(\"Probabilidad estimada:\", probabilidad)\n",
    "\n"
   ]
  },
  {
   "cell_type": "markdown",
   "id": "55732bca",
   "metadata": {},
   "source": [
    "## Ejercicio 2\n",
    "\n",
    "Una caja contiene 10 bolas blancas, 20 bolas rojas y 30 bolas verdes. Si tomamos 5 bolas de la caja reemplazándolas (tomando una bola, anotando el color y luego regresandola a la caja). Queremos saber la probabilidad de:\n",
    "\n",
    "1. Tomar 3 blancas y 2 rojas.\n",
    "2. Toas todas del mismo color.\n",
    "\n",
    "Ejecuta el experimento 1000 veces y calcula las probabilidades que mencionadas."
   ]
  },
  {
   "cell_type": "code",
   "execution_count": null,
   "id": "23244d20",
   "metadata": {},
   "outputs": [
    {
     "name": "stdout",
     "output_type": "stream",
     "text": [
      "4\n",
      "40\n",
      "Probabilidad caso 1 (3 blancas y 2 rojas) 0.004\n",
      "Probabilidad caso 2 (todas del mismo color) 0.04\n"
     ]
    }
   ],
   "source": [
    "\n",
    "# Crear la caja con las bolas\n",
    "ball_box = {}\n",
    "for i in range(60):\n",
    "    if i < 10:\n",
    "        ball_box[i] = \"White\"\n",
    "    elif i < 30:\n",
    "        ball_box[i] = \"Red\"\n",
    "    else:\n",
    "        ball_box[i] = \"Green\"\n",
    "\n",
    "# variables y contadores que utilizaremos mas adelante\n",
    "n_veces = 1000\n",
    "cnt_caso_uno = 0 \n",
    "cnt_caso_dos = 0  \n",
    "\n",
    "# bucle que hace el experimento el numero de veces que piden\n",
    "for i in range(n_veces):\n",
    "    # Lista para almacenar los colores de las bolas seleccionadas\n",
    "    color_bolas = []\n",
    "    # bucle que extrae 5 bolas al azar\n",
    "    for j in range(5):\n",
    "        #Elige una bola aleatoria\n",
    "        color_bolas.append(ball_box[np.random.randint(0, 60)])\n",
    "    \n",
    "     # Cuenta cuantas bolas de cada color hay dentro de colos_bolas\n",
    "    cont_blanco = color_bolas.count(\"White\")\n",
    "    cont_rojas = color_bolas.count(\"Red\")\n",
    "    cont_verdes = color_bolas.count(\"Green\")\n",
    "    #If del caso 1 . 3 bolas blancas y 2 rojas\n",
    "    if cont_blanco == 3 and cont_rojas == 2:\n",
    "        cnt_caso_uno += 1 #Incrementa el cont de caso 1\n",
    "    # If del caso 2. 5 bolas del mismo color\n",
    "    if cont_blanco == 5 or cont_rojas == 5 or cont_verdes == 5:\n",
    "        cnt_caso_dos += 1 #Incrementa el cont de caso 2\n",
    "\n",
    "\n",
    "probabilidad_caso_uno = cnt_caso_uno / n_veces #Sacamos la probabilidad del caso 1\n",
    "probabilidad_caso_dos = cnt_caso_dos / n_veces #Sacamos la probabilidad del caso 2\n",
    "print(cnt_caso_uno)\n",
    "print(cnt_caso_dos)\n",
    "print(\"Probabilidad caso 1 (3 blancas y 2 rojas)\",probabilidad_caso_uno)\n",
    "print(\"Probabilidad caso 2 (todas del mismo color)\",probabilidad_caso_dos)\n",
    "\n",
    "\n",
    "    \n",
    "        \n"
   ]
  }
 ],
 "metadata": {
  "kernelspec": {
   "display_name": "Python 3",
   "language": "python",
   "name": "python3"
  },
  "language_info": {
   "codemirror_mode": {
    "name": "ipython",
    "version": 3
   },
   "file_extension": ".py",
   "mimetype": "text/x-python",
   "name": "python",
   "nbconvert_exporter": "python",
   "pygments_lexer": "ipython3",
   "version": "3.11.4"
  }
 },
 "nbformat": 4,
 "nbformat_minor": 5
}
